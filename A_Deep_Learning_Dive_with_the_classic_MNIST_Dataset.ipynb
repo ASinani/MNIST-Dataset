{
  "nbformat": 4,
  "nbformat_minor": 0,
  "metadata": {
    "colab": {
      "name": "A Deep Learning Dive with the classic MNIST Dataset.ipynb",
      "version": "0.3.2",
      "provenance": []
    },
    "kernelspec": {
      "name": "python3",
      "display_name": "Python 3"
    }
  },
  "cells": [
    {
      "cell_type": "markdown",
      "metadata": {
        "id": "UlsMv1howAVx",
        "colab_type": "text"
      },
      "source": [
        "#Loading The Dataset"
      ]
    },
    {
      "cell_type": "code",
      "metadata": {
        "id": "sZE_3W12r7Wq",
        "colab_type": "code",
        "outputId": "59d0972f-ae47-4185-adef-d3df5e097da2",
        "colab": {
          "base_uri": "https://localhost:8080/",
          "height": 67
        }
      },
      "source": [
        "\n",
        "# Loading the MNIST dataset into Keras\n",
        "from keras.datasets import mnist\n",
        "\n",
        "(train_images, train_labels), (test_images, test_labels) = mnist.load_data()\n"
      ],
      "execution_count": 0,
      "outputs": [
        {
          "output_type": "stream",
          "text": [
            "Using TensorFlow backend.\n"
          ],
          "name": "stderr"
        },
        {
          "output_type": "stream",
          "text": [
            "Downloading data from https://s3.amazonaws.com/img-datasets/mnist.npz\n",
            "11493376/11490434 [==============================] - 1s 0us/step\n"
          ],
          "name": "stdout"
        }
      ]
    },
    {
      "cell_type": "code",
      "metadata": {
        "id": "awQPayM5sulK",
        "colab_type": "code",
        "outputId": "ed538afe-140d-454b-c3c6-992f3959e53e",
        "colab": {
          "base_uri": "https://localhost:8080/",
          "height": 34
        }
      },
      "source": [
        "train_images.shape"
      ],
      "execution_count": 0,
      "outputs": [
        {
          "output_type": "execute_result",
          "data": {
            "text/plain": [
              "(60000, 28, 28)"
            ]
          },
          "metadata": {
            "tags": []
          },
          "execution_count": 2
        }
      ]
    },
    {
      "cell_type": "code",
      "metadata": {
        "id": "-xUDEf64sys0",
        "colab_type": "code",
        "outputId": "5ca34454-bffe-4f76-c5df-d0d626db30db",
        "colab": {
          "base_uri": "https://localhost:8080/",
          "height": 34
        }
      },
      "source": [
        "len(train_labels)"
      ],
      "execution_count": 0,
      "outputs": [
        {
          "output_type": "execute_result",
          "data": {
            "text/plain": [
              "60000"
            ]
          },
          "metadata": {
            "tags": []
          },
          "execution_count": 3
        }
      ]
    },
    {
      "cell_type": "code",
      "metadata": {
        "id": "E1I5aixws0Ii",
        "colab_type": "code",
        "outputId": "a8f6e7c8-f541-4d5f-9305-d99a816f6f16",
        "colab": {
          "base_uri": "https://localhost:8080/",
          "height": 34
        }
      },
      "source": [
        "train_labels"
      ],
      "execution_count": 0,
      "outputs": [
        {
          "output_type": "execute_result",
          "data": {
            "text/plain": [
              "array([5, 0, 4, ..., 5, 6, 8], dtype=uint8)"
            ]
          },
          "metadata": {
            "tags": []
          },
          "execution_count": 4
        }
      ]
    },
    {
      "cell_type": "code",
      "metadata": {
        "id": "GnxC_K3_s2Sy",
        "colab_type": "code",
        "outputId": "db9a3376-5f0b-472a-a988-840b08d4c8e4",
        "colab": {
          "base_uri": "https://localhost:8080/",
          "height": 34
        }
      },
      "source": [
        "test_images.shape"
      ],
      "execution_count": 0,
      "outputs": [
        {
          "output_type": "execute_result",
          "data": {
            "text/plain": [
              "(10000, 28, 28)"
            ]
          },
          "metadata": {
            "tags": []
          },
          "execution_count": 5
        }
      ]
    },
    {
      "cell_type": "code",
      "metadata": {
        "id": "C3-5yiCAs449",
        "colab_type": "code",
        "outputId": "ba370e32-6884-46d3-c67b-974ed3c96d74",
        "colab": {
          "base_uri": "https://localhost:8080/",
          "height": 34
        }
      },
      "source": [
        "len(test_labels)"
      ],
      "execution_count": 0,
      "outputs": [
        {
          "output_type": "execute_result",
          "data": {
            "text/plain": [
              "10000"
            ]
          },
          "metadata": {
            "tags": []
          },
          "execution_count": 6
        }
      ]
    },
    {
      "cell_type": "code",
      "metadata": {
        "id": "Ug_z7EtCs62o",
        "colab_type": "code",
        "outputId": "44d8d425-bf14-4568-d068-b4f4ad72458a",
        "colab": {
          "base_uri": "https://localhost:8080/",
          "height": 34
        }
      },
      "source": [
        "test_labels"
      ],
      "execution_count": 0,
      "outputs": [
        {
          "output_type": "execute_result",
          "data": {
            "text/plain": [
              "array([7, 2, 1, ..., 4, 5, 6], dtype=uint8)"
            ]
          },
          "metadata": {
            "tags": []
          },
          "execution_count": 7
        }
      ]
    },
    {
      "cell_type": "markdown",
      "metadata": {
        "id": "U5DWgZ0atRNG",
        "colab_type": "text"
      },
      "source": [
        "#The Network Architecture\n",
        "\n",
        "The core building block of a neural network is the ***layer***, a data-processing module that you can think of as a filter for data.\n",
        "\n",
        "In the code below, our network consists of a sequence of two Dense layers, which are densely connected neural layers.\n",
        "\n",
        "The second (to last) layer is a 10-way softmax layer as the value is 10 and activation is ***softmax***. This will return an array of 10 probability scores all summing to 1. Each will be the probability that the current digit image belongs to one of our 10 digit classes. "
      ]
    },
    {
      "cell_type": "code",
      "metadata": {
        "id": "CndR_lezs70C",
        "colab_type": "code",
        "outputId": "2a7008f7-1d4e-4154-9b92-6fb666c0592c",
        "colab": {
          "base_uri": "https://localhost:8080/",
          "height": 154
        }
      },
      "source": [
        "from keras import models\n",
        "from keras import layers\n",
        "\n",
        "network = models.Sequential()\n",
        "network.add(layers.Dense(512, activation='relu', input_shape=(28 * 28,)))\n",
        "network.add(layers.Dense(10, activation='softmax'))"
      ],
      "execution_count": 0,
      "outputs": [
        {
          "output_type": "stream",
          "text": [
            "WARNING: Logging before flag parsing goes to stderr.\n",
            "W0827 01:32:41.740226 140423971198848 deprecation_wrapper.py:119] From /usr/local/lib/python3.6/dist-packages/keras/backend/tensorflow_backend.py:74: The name tf.get_default_graph is deprecated. Please use tf.compat.v1.get_default_graph instead.\n",
            "\n",
            "W0827 01:32:41.817749 140423971198848 deprecation_wrapper.py:119] From /usr/local/lib/python3.6/dist-packages/keras/backend/tensorflow_backend.py:517: The name tf.placeholder is deprecated. Please use tf.compat.v1.placeholder instead.\n",
            "\n",
            "W0827 01:32:41.833202 140423971198848 deprecation_wrapper.py:119] From /usr/local/lib/python3.6/dist-packages/keras/backend/tensorflow_backend.py:4138: The name tf.random_uniform is deprecated. Please use tf.random.uniform instead.\n",
            "\n"
          ],
          "name": "stderr"
        }
      ]
    },
    {
      "cell_type": "markdown",
      "metadata": {
        "id": "A-gub1E-uaHH",
        "colab_type": "text"
      },
      "source": [
        "#The Compilation Step\n",
        "\n",
        "We need three more things for this neural network in order to begin our training:\n",
        "- A *loss function* - which is how the network will measure performance on the training data and how it will be able to steer itself in the right direction.\n",
        "- *Optimizer* - A mechanism which the network will update itself based on the loss function and data it sees.\n",
        "- *Metrics to monitor during training and testing* - accuracy. "
      ]
    },
    {
      "cell_type": "code",
      "metadata": {
        "id": "iTS6cgXHtPB4",
        "colab_type": "code",
        "outputId": "e7470170-e8f0-43a8-c3e9-f96ee1d1cf69",
        "colab": {
          "base_uri": "https://localhost:8080/",
          "height": 104
        }
      },
      "source": [
        "network.compile(optimizer='rmsprop',\n",
        "               loss='categorical_crossentropy',\n",
        "               metrics=['accuracy'])"
      ],
      "execution_count": 0,
      "outputs": [
        {
          "output_type": "stream",
          "text": [
            "W0827 01:41:34.339963 140423971198848 deprecation_wrapper.py:119] From /usr/local/lib/python3.6/dist-packages/keras/optimizers.py:790: The name tf.train.Optimizer is deprecated. Please use tf.compat.v1.train.Optimizer instead.\n",
            "\n",
            "W0827 01:41:34.371847 140423971198848 deprecation_wrapper.py:119] From /usr/local/lib/python3.6/dist-packages/keras/backend/tensorflow_backend.py:3295: The name tf.log is deprecated. Please use tf.math.log instead.\n",
            "\n"
          ],
          "name": "stderr"
        }
      ]
    },
    {
      "cell_type": "code",
      "metadata": {
        "id": "ZQYyYUwnvREX",
        "colab_type": "code",
        "colab": {}
      },
      "source": [
        "# Preparing the image data\n",
        "\n",
        "train_images = train_images.reshape((60000, 28 * 28))\n",
        "train_images = train_images.astype('float32') / 255\n",
        "\n",
        "test_images = test_images.reshape((10000, 28 * 28))\n",
        "test_images = test_images.astype('float32') / 255"
      ],
      "execution_count": 0,
      "outputs": []
    },
    {
      "cell_type": "code",
      "metadata": {
        "id": "IqvEJ4TDvnFs",
        "colab_type": "code",
        "colab": {}
      },
      "source": [
        "# Categorically encode the labels\n",
        "\n",
        "from keras.utils import to_categorical\n",
        "\n",
        "train_labels = to_categorical(train_labels)\n",
        "test_labels = to_categorical(test_labels)"
      ],
      "execution_count": 0,
      "outputs": []
    },
    {
      "cell_type": "markdown",
      "metadata": {
        "id": "Q94Ow_mbwEw2",
        "colab_type": "text"
      },
      "source": [
        "#Fit The Model"
      ]
    },
    {
      "cell_type": "code",
      "metadata": {
        "id": "K6FX07CSv6KX",
        "colab_type": "code",
        "outputId": "508472fd-536e-4937-9abf-4887ccdc40ed",
        "colab": {
          "base_uri": "https://localhost:8080/",
          "height": 306
        }
      },
      "source": [
        "# Ready to train the network\n",
        "\n",
        "\n",
        "# Training Data Accuracy\n",
        "network.fit(train_images, train_labels, epochs=5, batch_size=128)"
      ],
      "execution_count": 0,
      "outputs": [
        {
          "output_type": "stream",
          "text": [
            "W0827 01:45:54.918740 140423971198848 deprecation.py:323] From /usr/local/lib/python3.6/dist-packages/tensorflow/python/ops/math_grad.py:1250: add_dispatch_support.<locals>.wrapper (from tensorflow.python.ops.array_ops) is deprecated and will be removed in a future version.\n",
            "Instructions for updating:\n",
            "Use tf.where in 2.0, which has the same broadcast rule as np.where\n",
            "W0827 01:45:54.981603 140423971198848 deprecation_wrapper.py:119] From /usr/local/lib/python3.6/dist-packages/keras/backend/tensorflow_backend.py:986: The name tf.assign_add is deprecated. Please use tf.compat.v1.assign_add instead.\n",
            "\n"
          ],
          "name": "stderr"
        },
        {
          "output_type": "stream",
          "text": [
            "Epoch 1/5\n",
            "60000/60000 [==============================] - 6s 95us/step - loss: 0.2603 - acc: 0.9252\n",
            "Epoch 2/5\n",
            "60000/60000 [==============================] - 5s 80us/step - loss: 0.1055 - acc: 0.9689\n",
            "Epoch 3/5\n",
            "60000/60000 [==============================] - 5s 81us/step - loss: 0.0699 - acc: 0.9794\n",
            "Epoch 4/5\n",
            "60000/60000 [==============================] - 5s 81us/step - loss: 0.0510 - acc: 0.9847\n",
            "Epoch 5/5\n",
            "60000/60000 [==============================] - 5s 81us/step - loss: 0.0377 - acc: 0.9887\n"
          ],
          "name": "stdout"
        },
        {
          "output_type": "execute_result",
          "data": {
            "text/plain": [
              "<keras.callbacks.History at 0x7fb6dd4f7198>"
            ]
          },
          "metadata": {
            "tags": []
          },
          "execution_count": 14
        }
      ]
    },
    {
      "cell_type": "markdown",
      "metadata": {
        "id": "I8F8LiriwbZm",
        "colab_type": "text"
      },
      "source": [
        "Our *training data* reached a **98.9%**. "
      ]
    },
    {
      "cell_type": "code",
      "metadata": {
        "id": "1zpAXPbYwQqX",
        "colab_type": "code",
        "outputId": "e57b524c-9782-4e41-b959-91267ce88b14",
        "colab": {
          "base_uri": "https://localhost:8080/",
          "height": 50
        }
      },
      "source": [
        "# Test Set Accuracy\n",
        "\n",
        "test_loss, test_acc = network.evaluate(test_images, test_labels)\n",
        "print('test_acc:', test_acc)"
      ],
      "execution_count": 0,
      "outputs": [
        {
          "output_type": "stream",
          "text": [
            "10000/10000 [==============================] - 1s 59us/step\n",
            "test_acc: 0.982\n"
          ],
          "name": "stdout"
        }
      ]
    },
    {
      "cell_type": "markdown",
      "metadata": {
        "id": "D3RBjnIsxBr-",
        "colab_type": "text"
      },
      "source": [
        "Our *test data* reached a **98.2%**. "
      ]
    },
    {
      "cell_type": "markdown",
      "metadata": {
        "id": "NcNE2TdnxLu4",
        "colab_type": "text"
      },
      "source": [
        "As you notice the slight difference between accuracy scores of the train data and test data, this indicates there was a little bit of overfitting. "
      ]
    },
    {
      "cell_type": "code",
      "metadata": {
        "id": "IVozLXZEw6ZX",
        "colab_type": "code",
        "colab": {}
      },
      "source": [
        ""
      ],
      "execution_count": 0,
      "outputs": []
    }
  ]
}